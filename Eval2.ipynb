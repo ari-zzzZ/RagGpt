{
 "cells": [
  {
   "cell_type": "code",
   "execution_count": 4,
   "id": "1de0be39",
   "metadata": {},
   "outputs": [],
   "source": [
    "from datasets import load_dataset, Dataset\n",
    "from ragas import evaluate\n",
    "from ragas.metrics import context_recall, context_precision, answer_correctness\n",
    "from src.retriever import get_relevant_chunks\n",
    "import os\n",
    "import pandas as pd"
   ]
  },
  {
   "cell_type": "code",
   "execution_count": 5,
   "id": "d610aa40",
   "metadata": {},
   "outputs": [],
   "source": [
    "# 加载 SQuAD 验证集并选取前 100 条互不相同的 context\n",
    "full = load_dataset(\"squad\", split=\"validation\")"
   ]
  },
  {
   "cell_type": "code",
   "execution_count": 6,
   "id": "7434fe5a",
   "metadata": {},
   "outputs": [],
   "source": [
    "seen, indices = set(), []\n",
    "for i, ctx in enumerate(full[\"context\"]):\n",
    "    if ctx not in seen:\n",
    "        seen.add(ctx)\n",
    "        indices.append(i)\n",
    "    if len(indices) == 100:\n",
    "        break"
   ]
  },
  {
   "cell_type": "code",
   "execution_count": 7,
   "id": "aed8cba3",
   "metadata": {},
   "outputs": [
    {
     "name": "stdout",
     "output_type": "stream",
     "text": [
      "选取到 100 条唯一 context\n"
     ]
    }
   ],
   "source": [
    "raw = full.select(indices)\n",
    "questions     = raw[\"question\"]\n",
    "ground_truths = [ans[\"text\"][0] if ans[\"text\"] else \"\" for ans in raw[\"answers\"]]\n",
    "\n",
    "print(\"选取到\", len(raw), \"条唯一 context\")"
   ]
  },
  {
   "cell_type": "code",
   "execution_count": null,
   "id": "82a5f12c",
   "metadata": {},
   "outputs": [
    {
     "name": "stdout",
     "output_type": "stream",
     "text": [
      "已写入到 documents/squad 请构建向量库，参考readme\n"
     ]
    }
   ],
   "source": [
    "# 将这 100 段 context 输出到 documents/squad/*.txt\n",
    "out_dir = \"documents/squad\"\n",
    "os.makedirs(out_dir, exist_ok=True)\n",
    "\n",
    "for i, ctx in enumerate(raw[\"context\"]):\n",
    "    with open(f\"{out_dir}/{i:03d}.txt\", \"w\", encoding=\"utf-8\") as f:\n",
    "        f.write(ctx)\n",
    "\n",
    "print(\"已写入到\", out_dir,\",请构建向量库，参考readme\")\n"
   ]
  },
  {
   "cell_type": "code",
   "execution_count": 12,
   "id": "2ea0e074",
   "metadata": {},
   "outputs": [
    {
     "name": "stdout",
     "output_type": "stream",
     "text": [
      "=== Top-1 检索 & 手动检查 ===\n",
      "[000] hit=True  retrieved_len=1\n",
      "[001] hit=True  retrieved_len=1\n",
      "[002] hit=False  retrieved_len=1\n",
      "[003] hit=True  retrieved_len=1\n",
      "[004] hit=True  retrieved_len=1\n",
      "[005] hit=True  retrieved_len=1\n",
      "[006] hit=True  retrieved_len=1\n",
      "[007] hit=True  retrieved_len=1\n",
      "[008] hit=True  retrieved_len=1\n",
      "[009] hit=True  retrieved_len=1\n",
      "[010] hit=True  retrieved_len=1\n",
      "[011] hit=True  retrieved_len=1\n",
      "[012] hit=True  retrieved_len=1\n",
      "[013] hit=True  retrieved_len=1\n",
      "[014] hit=True  retrieved_len=1\n",
      "[015] hit=True  retrieved_len=1\n",
      "[016] hit=True  retrieved_len=1\n",
      "[017] hit=True  retrieved_len=1\n",
      "[018] hit=True  retrieved_len=1\n",
      "[019] hit=True  retrieved_len=1\n",
      "[020] hit=True  retrieved_len=1\n",
      "[021] hit=True  retrieved_len=1\n",
      "[022] hit=True  retrieved_len=1\n",
      "[023] hit=True  retrieved_len=1\n",
      "[024] hit=True  retrieved_len=1\n",
      "[025] hit=True  retrieved_len=1\n",
      "[026] hit=True  retrieved_len=1\n",
      "[027] hit=True  retrieved_len=1\n",
      "[028] hit=True  retrieved_len=1\n",
      "[029] hit=True  retrieved_len=1\n",
      "[030] hit=True  retrieved_len=1\n",
      "[031] hit=True  retrieved_len=1\n",
      "[032] hit=False  retrieved_len=1\n",
      "[033] hit=False  retrieved_len=1\n",
      "[034] hit=True  retrieved_len=1\n",
      "[035] hit=False  retrieved_len=1\n",
      "[036] hit=True  retrieved_len=1\n",
      "[037] hit=True  retrieved_len=1\n",
      "[038] hit=False  retrieved_len=1\n",
      "[039] hit=True  retrieved_len=1\n",
      "[040] hit=True  retrieved_len=1\n",
      "[041] hit=True  retrieved_len=1\n",
      "[042] hit=True  retrieved_len=1\n",
      "[043] hit=True  retrieved_len=1\n",
      "[044] hit=False  retrieved_len=1\n",
      "[045] hit=True  retrieved_len=1\n",
      "[046] hit=False  retrieved_len=1\n",
      "[047] hit=True  retrieved_len=1\n",
      "[048] hit=True  retrieved_len=1\n",
      "[049] hit=False  retrieved_len=1\n",
      "[050] hit=False  retrieved_len=1\n",
      "[051] hit=True  retrieved_len=1\n",
      "[052] hit=True  retrieved_len=1\n",
      "[053] hit=True  retrieved_len=1\n",
      "[054] hit=True  retrieved_len=1\n",
      "[055] hit=True  retrieved_len=1\n",
      "[056] hit=False  retrieved_len=1\n",
      "[057] hit=True  retrieved_len=1\n",
      "[058] hit=True  retrieved_len=1\n",
      "[059] hit=True  retrieved_len=1\n",
      "[060] hit=True  retrieved_len=1\n",
      "[061] hit=True  retrieved_len=1\n",
      "[062] hit=True  retrieved_len=1\n",
      "[063] hit=False  retrieved_len=1\n",
      "[064] hit=True  retrieved_len=1\n",
      "[065] hit=True  retrieved_len=1\n",
      "[066] hit=True  retrieved_len=1\n",
      "[067] hit=True  retrieved_len=1\n",
      "[068] hit=True  retrieved_len=1\n",
      "[069] hit=True  retrieved_len=1\n",
      "[070] hit=False  retrieved_len=1\n",
      "[071] hit=True  retrieved_len=1\n",
      "[072] hit=True  retrieved_len=1\n",
      "[073] hit=True  retrieved_len=1\n",
      "[074] hit=True  retrieved_len=1\n",
      "[075] hit=True  retrieved_len=1\n",
      "[076] hit=False  retrieved_len=1\n",
      "[077] hit=True  retrieved_len=1\n",
      "[078] hit=True  retrieved_len=1\n",
      "[079] hit=True  retrieved_len=1\n",
      "[080] hit=True  retrieved_len=1\n",
      "[081] hit=True  retrieved_len=1\n",
      "[082] hit=True  retrieved_len=1\n",
      "[083] hit=False  retrieved_len=1\n",
      "[084] hit=True  retrieved_len=1\n",
      "[085] hit=True  retrieved_len=1\n",
      "[086] hit=True  retrieved_len=1\n",
      "[087] hit=True  retrieved_len=1\n",
      "[088] hit=True  retrieved_len=1\n",
      "[089] hit=True  retrieved_len=1\n",
      "[090] hit=False  retrieved_len=1\n",
      "[091] hit=True  retrieved_len=1\n",
      "[092] hit=True  retrieved_len=1\n",
      "[093] hit=True  retrieved_len=1\n",
      "[094] hit=True  retrieved_len=1\n",
      "[095] hit=False  retrieved_len=1\n",
      "[096] hit=True  retrieved_len=1\n",
      "[097] hit=True  retrieved_len=1\n",
      "[098] hit=True  retrieved_len=1\n",
      "[099] hit=False  retrieved_len=1\n",
      "\n",
      "Manual Recall@1: 0.830\n"
     ]
    }
   ],
   "source": [
    "# Top-1 检索 & 手动命中检查\n",
    "contexts_list = []\n",
    "manual_hits   = []\n",
    "\n",
    "print(\"=== Top-1 检索 & 手动检查 ===\")\n",
    "for i, (q, gt) in enumerate(zip(questions, ground_truths)):\n",
    "    retrieved = get_relevant_chunks(q, k=1) #设置k\n",
    "    contexts_list.append(retrieved)\n",
    "    hit = bool(retrieved and gt in retrieved[0])\n",
    "    manual_hits.append(hit)\n",
    "    print(f\"[{i:03d}] hit={hit}  retrieved_len={len(retrieved)}\")\n",
    "\n",
    "print(f\"\\nManual Recall@1: {sum(manual_hits)/len(manual_hits):.3f}\")"
   ]
  },
  {
   "cell_type": "code",
   "execution_count": 13,
   "id": "56105da3",
   "metadata": {},
   "outputs": [
    {
     "name": "stdout",
     "output_type": "stream",
     "text": [
      "Data lengths: {'question': 100, 'contexts': 100, 'answer': 100, 'ground_truth': 100}\n"
     ]
    },
    {
     "data": {
      "application/vnd.jupyter.widget-view+json": {
       "model_id": "251263160397420693971f2415f85fa3",
       "version_major": 2,
       "version_minor": 0
      },
      "text/plain": [
       "Evaluating:   0%|          | 0/300 [00:00<?, ?it/s]"
      ]
     },
     "metadata": {},
     "output_type": "display_data"
    },
    {
     "name": "stdout",
     "output_type": "stream",
     "text": [
      "\n",
      "=== RAGAS Evaluation Results ===\n",
      "                                           user_input  \\\n",
      "0   Which NFL team represented the AFC at Super Bo...   \n",
      "1   Which Carolina Panthers player was named Most ...   \n",
      "2                      Who was the Super Bowl 50 MVP?   \n",
      "3   Which network broadcasted Super Bowl 50 in the...   \n",
      "4         Who was the NFL Commissioner in early 2012?   \n",
      "..                                                ...   \n",
      "95  What type of city has Warsaw been for as long ...   \n",
      "96  What is the basic unit of territorial division...   \n",
      "97  Who in Warsaw has the power of legislative act...   \n",
      "98                What is the mayor of Warsaw called?   \n",
      "99  What is the city centre of Warsaw called in Po...   \n",
      "\n",
      "                                   retrieved_contexts  \\\n",
      "0   [Super Bowl 50 was an American football game t...   \n",
      "1   [The Panthers finished the regular season with...   \n",
      "2   [Super Bowl 50 was an American football game t...   \n",
      "3   [CBS broadcast Super Bowl 50 in the U.S., and ...   \n",
      "4   [In early 2012, NFL Commissioner Roger Goodell...   \n",
      "..                                                ...   \n",
      "95  [The first historical reference to Warsaw date...   \n",
      "96  [The basic unit of territorial division in Pol...   \n",
      "97  [Legislative power in Warsaw is vested in a un...   \n",
      "98  [The mayor of Warsaw is called President. Gene...   \n",
      "99  [the Old Town and Central district and about 1...   \n",
      "\n",
      "                                             response            reference  \\\n",
      "0   Super Bowl 50 was an American football game to...       Denver Broncos   \n",
      "1   The Panthers finished the regular season with ...           Cam Newton   \n",
      "2   Super Bowl 50 was an American football game to...           Von Miller   \n",
      "3   CBS broadcast Super Bowl 50 in the U.S., and c...                  CBS   \n",
      "4   In early 2012, NFL Commissioner Roger Goodell ...        Roger Goodell   \n",
      "..                                                ...                  ...   \n",
      "95  The first historical reference to Warsaw dates...       multi-cultural   \n",
      "96  The basic unit of territorial division in Pola...            a commune   \n",
      "97  Legislative power in Warsaw is vested in a uni...  Warsaw City Council   \n",
      "98  The mayor of Warsaw is called President. Gener...            President   \n",
      "99  the Old Town and Central district and about 10...          Śródmieście   \n",
      "\n",
      "    context_recall  context_precision  answer_correctness  \n",
      "0              1.0                1.0            0.640966  \n",
      "1              1.0                1.0            0.591747  \n",
      "2              0.0                0.0            0.191249  \n",
      "3              1.0                1.0            0.578470  \n",
      "4              1.0                1.0            0.507119  \n",
      "..             ...                ...                 ...  \n",
      "95             0.0                0.0            0.483072  \n",
      "96             1.0                1.0            0.506290  \n",
      "97             1.0                1.0            0.523189  \n",
      "98             1.0                1.0            0.494790  \n",
      "99             0.0                0.0            0.202556  \n",
      "\n",
      "[100 rows x 7 columns]\n",
      "\n",
      "=== Average Metrics ===\n",
      "context_recall        0.830000\n",
      "context_precision     0.830000\n",
      "answer_correctness    0.491814\n"
     ]
    }
   ],
   "source": [
    "# 组装 RAGAS 数据并评估\n",
    "answers = [\" \".join(c)[:500] for c in contexts_list]\n",
    "\n",
    "data = {\n",
    "    \"question\":     questions,\n",
    "    \"contexts\":     contexts_list,\n",
    "    \"answer\":       answers,\n",
    "    \"ground_truth\": ground_truths,\n",
    "}\n",
    "print(\"Data lengths:\", {k: len(v) for k,v in data.items()})\n",
    "\n",
    "eval_ds = Dataset.from_dict(data)\n",
    "scores  = evaluate(\n",
    "    dataset=eval_ds,\n",
    "    metrics=[context_recall, context_precision, answer_correctness]\n",
    ")\n",
    "df = scores.to_pandas()\n",
    "\n",
    "print(\"\\n=== RAGAS Evaluation Results ===\")\n",
    "print(df)\n",
    "\n",
    "avg = df[[\"context_recall\",\"context_precision\",\"answer_correctness\"]].mean()\n",
    "print(\"\\n=== Average Metrics ===\")\n",
    "print(avg.to_string())"
   ]
  },
  {
   "cell_type": "code",
   "execution_count": 17,
   "id": "c1d4f176",
   "metadata": {},
   "outputs": [
    {
     "name": "stdout",
     "output_type": "stream",
     "text": [
      "=== Sample 0 ===\n",
      "Q : Which NFL team represented the AFC at Super Bowl 50?\n",
      "GT: Denver Broncos\n",
      "\n",
      "Retrieved Contexts:\n",
      "  [0] Super Bowl 50 was an American football game to determine the champion of the National Football League (NFL) for the 2015 season. The American Football Conference (AFC) champion Denver Broncos defeated\n",
      "\n",
      "Answer:\n",
      "Super Bowl 50 was an American football game to determine the champion of the National Football League (NFL) for the 2015 season. The American Football Conference (AFC) champion Denver Broncos defeated\n"
     ]
    }
   ],
   "source": [
    "#打印第n个样本\n",
    "n = 0  # ← 在这里改成你想查看的索引\n",
    "\n",
    "print(f\"=== Sample {n} ===\")\n",
    "print(\"Q :\", questions[n])\n",
    "print(\"GT:\", ground_truths[n])\n",
    "print(\"\\nRetrieved Contexts:\")\n",
    "for idx, ctx in enumerate(contexts_list[n]):\n",
    "    print(f\"  [{idx}] {ctx}\\n\")\n",
    "\n",
    "print(\"Answer:\")\n",
    "print(answers[n])\n"
   ]
  }
 ],
 "metadata": {
  "kernelspec": {
   "display_name": "train",
   "language": "python",
   "name": "python3"
  },
  "language_info": {
   "codemirror_mode": {
    "name": "ipython",
    "version": 3
   },
   "file_extension": ".py",
   "mimetype": "text/x-python",
   "name": "python",
   "nbconvert_exporter": "python",
   "pygments_lexer": "ipython3",
   "version": "3.10.16"
  }
 },
 "nbformat": 4,
 "nbformat_minor": 5
}

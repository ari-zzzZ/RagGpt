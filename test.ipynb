{
 "cells": [
  {
   "cell_type": "code",
   "execution_count": 1,
   "id": "7b756b9b",
   "metadata": {},
   "outputs": [
    {
     "name": "stderr",
     "output_type": "stream",
     "text": [
      "c:\\Users\\AriZu\\.conda\\envs\\train\\lib\\site-packages\\tqdm\\auto.py:21: TqdmWarning: IProgress not found. Please update jupyter and ipywidgets. See https://ipywidgets.readthedocs.io/en/stable/user_install.html\n",
      "  from .autonotebook import tqdm as notebook_tqdm\n"
     ]
    }
   ],
   "source": [
    "from datasets import load_dataset\n",
    "import pandas as pd\n",
    "from tqdm import tqdm\n",
    "from langchain_core.documents import Document\n",
    "from langchain_openai import OpenAIEmbeddings\n",
    "from langchain_community.vectorstores import FAISS\n",
    "from config import settings\n",
    "import os"
   ]
  },
  {
   "cell_type": "code",
   "execution_count": null,
   "id": "77e825df",
   "metadata": {},
   "outputs": [
    {
     "name": "stdout",
     "output_type": "stream",
     "text": [
      "样本数： 10570\n"
     ]
    }
   ],
   "source": [
    "### 下载 Natural Questions Lite 数据集\n",
    "dataset = load_dataset(\"squad\", split=\"validation\")\n",
    "print(\"样本数：\", len(dataset))"
   ]
  },
  {
   "cell_type": "code",
   "execution_count": null,
   "id": "0d2b949d",
   "metadata": {},
   "outputs": [
    {
     "name": "stdout",
     "output_type": "stream",
     "text": [
      "样本数： 4380\n"
     ]
    }
   ],
   "source": [
    "### 下载 Natural Questions Lite 数据集\n",
    "dataset = load_dataset(\"squad\", split=\"train[:5%]\")\n",
    "print(\"样本数：\", len(dataset))\n"
   ]
  },
  {
   "cell_type": "code",
   "execution_count": null,
   "id": "2a6ca21a",
   "metadata": {},
   "outputs": [],
   "source": [
    "print(dataset[0])"
   ]
  },
  {
   "cell_type": "code",
   "execution_count": null,
   "id": "ac241872",
   "metadata": {},
   "outputs": [],
   "source": [
    "### STEP 2: 构建知识库\n",
    "print(\"\\n 正在构建文档索引...\")\n",
    "docs = []\n",
    "\n",
    "for item in dataset:\n",
    "    passage = item[\"context\"]\n",
    "    pid = item[\"id\"]\n",
    "    doc = Document(page_content=passage, metadata={\"doc_id\": pid})\n",
    "    docs.append(doc)\n",
    "\n",
    "\n",
    "embeddings = OpenAIEmbeddings(model=settings.EMBEDDING_MODEL)\n",
    "db = FAISS.from_documents(docs, embeddings)\n",
    "db.save_local(\"embeddings/squad\")\n",
    "print(\" 向量库已保存\")"
   ]
  },
  {
   "cell_type": "code",
   "execution_count": 3,
   "id": "c16c25e0",
   "metadata": {},
   "outputs": [],
   "source": [
    "embeddings = OpenAIEmbeddings(model=settings.EMBEDDING_MODEL)\n",
    "db = FAISS.load_local(\"embeddings/squad\", embeddings, allow_dangerous_deserialization=True)"
   ]
  },
  {
   "cell_type": "code",
   "execution_count": 4,
   "id": "8514dd9e",
   "metadata": {},
   "outputs": [
    {
     "name": "stderr",
     "output_type": "stream",
     "text": [
      "100%|██████████| 4380/4380 [29:30<00:00,  2.47it/s]  "
     ]
    },
    {
     "name": "stdout",
     "output_type": "stream",
     "text": [
      " Hit@10: 0.8096, MRR@10: 0.7290\n"
     ]
    },
    {
     "name": "stderr",
     "output_type": "stream",
     "text": [
      "\n"
     ]
    }
   ],
   "source": [
    "from src.retriever import get_topk_docs\n",
    "\n",
    "# 评估\n",
    "def evaluate(dataset, top_k=10, db=None):\n",
    "    records = []\n",
    "    for item in tqdm(dataset):\n",
    "        query = item[\"question\"]\n",
    "        gt_answer = item[\"answers\"][\"text\"][0]\n",
    "\n",
    "        docs = get_topk_docs(query, k=top_k, db=db)   # <== 加上 db\n",
    "        retrieved_texts = [doc.page_content for doc in docs]\n",
    "\n",
    "        hit = int(any(gt_answer.lower() in passage.lower() for passage in retrieved_texts))\n",
    "        rr = 0\n",
    "        for i, passage in enumerate(retrieved_texts):\n",
    "            if gt_answer.lower() in passage.lower():\n",
    "                rr = 1 / (i + 1)\n",
    "                break\n",
    "\n",
    "        records.append({\"question\": query, \"hit\": hit, \"rr\": rr})\n",
    "\n",
    "    df = pd.DataFrame(records)\n",
    "    print(f\" Hit@{top_k}: {df['hit'].mean():.4f}, MRR@{top_k}: {df['rr'].mean():.4f}\")\n",
    "    return df\n",
    "\n",
    "df_result = evaluate(dataset, top_k=10, db=db)  # 传db进去\n",
    "\n",
    "df_result.to_csv(\"squad_eval_result.csv\", index=False)"
   ]
  }
 ],
 "metadata": {
  "kernelspec": {
   "display_name": "train",
   "language": "python",
   "name": "python3"
  },
  "language_info": {
   "codemirror_mode": {
    "name": "ipython",
    "version": 3
   },
   "file_extension": ".py",
   "mimetype": "text/x-python",
   "name": "python",
   "nbconvert_exporter": "python",
   "pygments_lexer": "ipython3",
   "version": "3.10.16"
  }
 },
 "nbformat": 4,
 "nbformat_minor": 5
}

{
 "cells": [
  {
   "cell_type": "code",
   "execution_count": 1,
   "id": "4684306d",
   "metadata": {},
   "outputs": [],
   "source": [
    "from datasets import load_dataset, Dataset\n",
    "from ragas import evaluate\n",
    "from ragas.metrics import context_recall, context_precision, answer_correctness\n",
    "from src.retriever import get_relevant_chunks\n",
    "import os"
   ]
  },
  {
   "cell_type": "code",
   "execution_count": 2,
   "id": "b4d68c99",
   "metadata": {},
   "outputs": [],
   "source": [
    "hotpot = load_dataset(\"hotpot_qa\", \"distractor\", split=\"validation[:50]\")"
   ]
  },
  {
   "cell_type": "code",
   "execution_count": 3,
   "id": "d4e1bdff",
   "metadata": {},
   "outputs": [
    {
     "data": {
      "text/plain": [
       "{'id': '5abbf698554299114383a0b5',\n",
       " 'question': 'Which British first-generation jet-powered medium bomber was used in the South West Pacific theatre of World War II?',\n",
       " 'answer': 'English Electric Canberra',\n",
       " 'type': 'bridge',\n",
       " 'level': 'hard',\n",
       " 'supporting_facts': {'title': ['No. 2 Squadron RAAF',\n",
       "   'English Electric Canberra'],\n",
       "  'sent_id': [5, 0]},\n",
       " 'context': {'title': ['No. 2 Squadron RAAF',\n",
       "   'South West Pacific theatre of World War II',\n",
       "   'English Electric Canberra',\n",
       "   'Asiatic-Pacific Theater',\n",
       "   'Savoia-Marchetti SM.79',\n",
       "   'South West Pacific Area (command)',\n",
       "   'Tupolev Tu-12',\n",
       "   'No. 12 Squadron RAAF',\n",
       "   'Coastwatchers',\n",
       "   'Edwin A. Doss'],\n",
       "  'sentences': [['No. 2 Squadron is a Royal Australian Air Force (RAAF) squadron that operates from RAAF Base Williamtown, near Newcastle, New South Wales.',\n",
       "    ' From its formation in 1916 as part of the Australian Flying Corps, it has flown a variety of aircraft types including fighters, bombers, and Airborne Early Warning & Control (AEW&C).',\n",
       "    ' During World War I, the squadron operated on the Western Front conducting fighter sweeps and ground-attack missions.',\n",
       "    ' It was disbanded in mid-1919, following the end of hostilities.',\n",
       "    ' The squadron was briefly re-raised in 1922 as part of the newly independent RAAF, but was disbanded after only a couple of months and not reformed until 1937.',\n",
       "    ' It saw action as a bomber unit in the South West Pacific theatre of World War II and, equipped with English Electric Canberra jets, in the Malayan Emergency and the Vietnam War.',\n",
       "    ' The squadron was again disbanded in 1982, following the retirement of the Canberra.',\n",
       "    ' It was re-formed in 2000 to operate the Boeing 737 AEW&C \"Wedgetail\".',\n",
       "    \" One of the six Boeing 737s was deployed to the Middle East in September 2014, as part of Australia's contribution to the military coalition against ISIS.\"],\n",
       "   ['The South West Pacific theatre, during World War II, was a major theatre of the war between the Allies and Japan.',\n",
       "    ' It included the Philippines, the Dutch East Indies (except for Sumatra), Borneo, Australia and its mandate Territory of New Guinea (including the Bismarck Archipelago) and the western part of the Solomon Islands.',\n",
       "    \" This area was defined by the Allied powers' South West Pacific Area (SWPA) command.\"],\n",
       "   ['The English Electric Canberra is a British first-generation jet-powered medium bomber that was manufactured during the 1950s.',\n",
       "    ' It was developed by English Electric during the mid-to-late 1940s in response to a 1944 Air Ministry requirement for a successor to the wartime de Havilland Mosquito fast-bomber.',\n",
       "    ' Amongst the performance requirements for the type was the demand for an outstanding high altitude bombing capability in addition to flying at high speeds.',\n",
       "    ' These were partly accomplished by making use of newly developed jet propulsion technology.',\n",
       "    \" When the Canberra was introduced to service with the Royal Air Force (RAF), the type's first operator, in May 1951, it became the service's first jet-powered bomber aircraft.\"],\n",
       "   ['The Asiatic-Pacific Theater, was the theater of operations of U.S. forces during World War II in the Pacific War during 1941-45.',\n",
       "    ' From mid-1942 until the end of the war in 1945, there were two U.S. operational commands in the Pacific.',\n",
       "    ' The Pacific Ocean Areas (POA), divided into the Central Pacific Area, the North Pacific Area and the South Pacific Area, were commanded by Admiral Chester W. Nimitz, Commander-in-Chief Pacific Ocean Areas.',\n",
       "    ' The South West Pacific Area (SWPA) was commanded by General Douglas MacArthur, Supreme Allied Commander South West Pacific Area.',\n",
       "    ' During 1945, the United States added the United States Strategic Air Forces in the Pacific, commanded by General Carl A. Spaatz.'],\n",
       "   ['The Savoia-Marchetti SM.79 \"Sparviero\" (Italian for sparrowhawk) was a three-engined Italian medium bomber with a wood-and-metal structure.',\n",
       "    ' Originally designed as a fast passenger aircraft, between 1937 and 1939 this low-wing monoplane set 26 world records, qualifying it for some time as the fastest medium bomber in the world.',\n",
       "    ' It first saw action during the Spanish Civil War and flew on all fronts in which Italy was involved during World War II.',\n",
       "    ' It achieved success as a torpedo bomber in the Mediterranean theater, and became the best-known Italian aeroplane of the war.',\n",
       "    ' It was easily recognizable due to its distinctive fuselage dorsal \"hump\", and was well liked by its crews, who nicknamed it \"il gobbo maledetto\" (\"damned hunchback\").'],\n",
       "   ['South West Pacific Area (SWPA) was the name given to the Allied supreme military command in the South West Pacific Theatre of World War II.',\n",
       "    ' It was one of four major Allied commands in the Pacific War.',\n",
       "    ' SWPA included the Philippines, Borneo, the Dutch East Indies (excluding Sumatra), East Timor, Australia, the Territories of Papua and New Guinea, and the western part of the Solomon Islands.',\n",
       "    ' It primarily consisted of United States and Australian forces, although Dutch, Filipino, British and other Allied forces also served in the SWPA.'],\n",
       "   ['The Tupolev Tu-12 (development designation Tu-77) was an experimental Soviet jet-powered medium bomber developed from the successful piston-engined Tupolev Tu-2 bomber after the end of World War II.',\n",
       "    ' It was designed as a transitional aircraft to familiarize Tupolev and the VVS with the issues involved with jet-engined bombers.'],\n",
       "   ['No. 12 Squadron was a Royal Australian Air Force (RAAF) general purpose, bomber and transport squadron.',\n",
       "    ' The squadron was formed in 1939 and saw combat in the South West Pacific theatre of World War II.',\n",
       "    ' From 1941 to 1943, it mainly conducted maritime patrols off northern Australia.',\n",
       "    ' The squadron was based at Merauke in western New Guinea from November 1943 to July 1944, when it was withdrawn from operations.',\n",
       "    ' After being re-equipped, it operated as a heavy bomber unit from February 1945 until the end of the war.',\n",
       "    ' The squadron continued in this role until it was redesignated No. 1 Squadron RAAF in February 1948.',\n",
       "    ' The squadron was reformed in 1973 to operate transport helicopters but was again disbanded in 1989.'],\n",
       "   ['The Coastwatchers, also known as the Coast Watch Organisation, Combined Field Intelligence Service or Section C, Allied Intelligence Bureau, were Allied military intelligence operatives stationed on remote Pacific islands during World War II to observe enemy movements and rescue stranded Allied personnel.',\n",
       "    ' They played a significant role in the Pacific Ocean theatre and South West Pacific theatre, particularly as an early warning network during the Guadalcanal campaign.'],\n",
       "   ['Edwin A. Doss (September 14, 1914January 7, 1996) was an American fighter pilot and commander in the U.S. Air Force during World War II and Korean War.',\n",
       "    ' Logging more than 4,500 flying hours, Doss flew 573 combat hours and accrued 280 combat missions during his leadership in the South West Pacific Theatre and Korean War.',\n",
       "    ' For his two-year service as commander of the 35th Fighter Group during World War II, Doss was awarded the Distinguished Flying Cross, Legion of Merit, and the Air Medal.',\n",
       "    ' He received his second Legion of Merit and the Korean Ulchi medal with a Silver Star for his assignments as commander of the 49th Fighter Bomber Wing and the 3rd Bomber Wing at Kunsan, Korea.',\n",
       "    ' Colonel Doss’s service has been cited as integral to the development of long-range fighter tactics in the South West Pacific Theater.']]}}"
      ]
     },
     "execution_count": 3,
     "metadata": {},
     "output_type": "execute_result"
    }
   ],
   "source": [
    "hotpot[49]"
   ]
  },
  {
   "cell_type": "code",
   "execution_count": 4,
   "id": "9aa7c74e",
   "metadata": {},
   "outputs": [],
   "source": [
    "questions = hotpot[\"question\"]\n",
    "ground_truths = hotpot[\"answer\"]       # 正确答案\n",
    "contexts_block = hotpot[\"context\"]      # dict，有 title & sentences"
   ]
  },
  {
   "cell_type": "code",
   "execution_count": 5,
   "id": "e3727b1e",
   "metadata": {},
   "outputs": [
    {
     "data": {
      "text/plain": [
       "'out_dir = \"documents/hotpot\"\\nos.makedirs(out_dir, exist_ok=True)\\n\\nparas = []  # [(title, paragraph_str), ...]\\nfor block in contexts_block:\\n    for title, sents in zip(block[\"title\"], block[\"sentences\"]):\\n        para = \" \".join(sents).strip()\\n        paras.append((title, para))\\n\\n# 去重\\nseen, uniq = set(), []\\nfor title, para in paras:\\n    if para not in seen:\\n        seen.add(para)\\n        uniq.append((title, para))\\n\\nfor i, (title, para) in enumerate(uniq):\\n    safe = \"\".join(c if c.isalnum() else \"_\" for c in title)[:30]\\n    fname = f\"{i:04d}_{safe}.txt\"\\n    with open(f\"{out_dir}/{fname}\", \"w\", encoding=\"utf-8\") as f:\\n        f.write(para)\\n\\nprint(f\"Wrote {len(uniq)} paragraphs to {out_dir}\")'"
      ]
     },
     "execution_count": 5,
     "metadata": {},
     "output_type": "execute_result"
    }
   ],
   "source": [
    "#把每个 title+sentences 拼成一个段落，写入 documents/hotpot/*.txt\n",
    "'''out_dir = \"documents/hotpot\"\n",
    "os.makedirs(out_dir, exist_ok=True)\n",
    "\n",
    "paras = []  # [(title, paragraph_str), ...]\n",
    "for block in contexts_block:\n",
    "    for title, sents in zip(block[\"title\"], block[\"sentences\"]):\n",
    "        para = \" \".join(sents).strip()\n",
    "        paras.append((title, para))\n",
    "\n",
    "# 去重\n",
    "seen, uniq = set(), []\n",
    "for title, para in paras:\n",
    "    if para not in seen:\n",
    "        seen.add(para)\n",
    "        uniq.append((title, para))\n",
    "\n",
    "for i, (title, para) in enumerate(uniq):\n",
    "    safe = \"\".join(c if c.isalnum() else \"_\" for c in title)[:30]\n",
    "    fname = f\"{i:04d}_{safe}.txt\"\n",
    "    with open(f\"{out_dir}/{fname}\", \"w\", encoding=\"utf-8\") as f:\n",
    "        f.write(para)\n",
    "\n",
    "print(f\"Wrote {len(uniq)} paragraphs to {out_dir}\")'''"
   ]
  },
  {
   "cell_type": "code",
   "execution_count": null,
   "id": "c5c70a3c",
   "metadata": {},
   "outputs": [
    {
     "name": "stdout",
     "output_type": "stream",
     "text": [
      "=== Top-3 检索 & 手动检查 ===\n",
      "[00] hit=False  retrieved=3\n",
      "[01] hit=False  retrieved=3\n",
      "[02] hit=True  retrieved=3\n",
      "[03] hit=False  retrieved=3\n",
      "[04] hit=False  retrieved=3\n",
      "[05] hit=True  retrieved=3\n",
      "[06] hit=True  retrieved=3\n",
      "[07] hit=True  retrieved=3\n",
      "[08] hit=True  retrieved=3\n",
      "[09] hit=False  retrieved=3\n",
      "[10] hit=True  retrieved=3\n",
      "[11] hit=True  retrieved=3\n",
      "[12] hit=True  retrieved=3\n",
      "[13] hit=True  retrieved=3\n",
      "[14] hit=True  retrieved=3\n",
      "[15] hit=False  retrieved=3\n",
      "[16] hit=False  retrieved=3\n",
      "[17] hit=False  retrieved=3\n",
      "[18] hit=False  retrieved=3\n",
      "[19] hit=True  retrieved=3\n",
      "[20] hit=False  retrieved=3\n",
      "[21] hit=True  retrieved=3\n",
      "[22] hit=False  retrieved=3\n",
      "[23] hit=True  retrieved=3\n",
      "[24] hit=True  retrieved=3\n",
      "[25] hit=False  retrieved=3\n",
      "[26] hit=False  retrieved=3\n",
      "[27] hit=False  retrieved=3\n",
      "[28] hit=True  retrieved=3\n",
      "[29] hit=True  retrieved=3\n",
      "[30] hit=True  retrieved=3\n",
      "[31] hit=True  retrieved=3\n",
      "[32] hit=False  retrieved=3\n",
      "[33] hit=True  retrieved=3\n",
      "[34] hit=True  retrieved=3\n",
      "[35] hit=False  retrieved=3\n",
      "[36] hit=True  retrieved=3\n",
      "[37] hit=True  retrieved=3\n",
      "[38] hit=False  retrieved=3\n",
      "[39] hit=False  retrieved=3\n",
      "[40] hit=True  retrieved=3\n"
     ]
    }
   ],
   "source": [
    "#手搓 Top-3 检索 \n",
    "contexts_list, manual_hits = [], []\n",
    "\n",
    "print(\"=== Top-3 检索 & 手动检查 ===\")\n",
    "for i, (q, gt) in enumerate(zip(questions, ground_truths)):\n",
    "    ctxs = get_relevant_chunks(q, k=3)   # k=3\n",
    "    contexts_list.append(ctxs)\n",
    "    hit = any(gt in c for c in ctxs)\n",
    "    manual_hits.append(hit)\n",
    "    print(f\"[{i:02d}] hit={hit}  retrieved={len(ctxs)}\")\n",
    "\n",
    "print(f\"\\nManual Recall@3: {sum(manual_hits)/len(manual_hits):.3f}\")"
   ]
  },
  {
   "cell_type": "code",
   "execution_count": null,
   "id": "eb6e6cc5",
   "metadata": {},
   "outputs": [],
   "source": [
    "#  组装 RAGAS 数据并评估\n",
    "answers = [\" \".join(c) for c in contexts_list]  # 或替换为你的 LLM 生成\n",
    "\n",
    "data = {\n",
    "    \"question\":     questions,\n",
    "    \"contexts\":     contexts_list,\n",
    "    \"answer\":       answers,\n",
    "    \"ground_truth\": ground_truths,\n",
    "}\n",
    "print(\"Data lengths:\", {k: len(v) for k, v in data.items()})\n",
    "\n",
    "eval_ds = Dataset.from_dict(data)\n",
    "scores  = evaluate(\n",
    "    dataset=eval_ds,\n",
    "    metrics=[context_recall, context_precision, answer_correctness]\n",
    ")\n",
    "df = scores.to_pandas()\n",
    "\n",
    "print(\"\\n=== RAGAS 评估结果 ===\")\n",
    "print(df)\n",
    "\n",
    "avg = df[[\"context_recall\",\"context_precision\",\"answer_correctness\"]].mean()\n",
    "print(\"\\n=== 平均指标 ===\")\n",
    "print(avg.to_string())"
   ]
  },
  {
   "cell_type": "code",
   "execution_count": null,
   "id": "20dfd5ec",
   "metadata": {},
   "outputs": [],
   "source": [
    "#  查看第n个样例\n",
    "n = 2\n",
    "print(f\"--- Sample {n} ---\")\n",
    "print(\"Q :\", questions[n])\n",
    "print(\"GT:\", ground_truths[n])\n",
    "print(\"Ctxs:\")\n",
    "for j, c in enumerate(contexts_list[n]):\n",
    "    print(f\"  ({j})\", c[:1000], \"…\")\n",
    "print(\"\\nAns:\", answers[n])"
   ]
  }
 ],
 "metadata": {
  "kernelspec": {
   "display_name": "train",
   "language": "python",
   "name": "python3"
  },
  "language_info": {
   "codemirror_mode": {
    "name": "ipython",
    "version": 3
   },
   "file_extension": ".py",
   "mimetype": "text/x-python",
   "name": "python",
   "nbconvert_exporter": "python",
   "pygments_lexer": "ipython3",
   "version": "3.10.16"
  }
 },
 "nbformat": 4,
 "nbformat_minor": 5
}

{
 "cells": [
  {
   "cell_type": "code",
   "execution_count": 2,
   "id": "37c4fa6e",
   "metadata": {},
   "outputs": [],
   "source": [
    "from datasets import load_dataset\n",
    "from sentence_transformers import InputExample\n",
    "import random"
   ]
  },
  {
   "cell_type": "code",
   "execution_count": 3,
   "id": "4dd21d38",
   "metadata": {},
   "outputs": [],
   "source": [
    "hotpot = load_dataset(\"hotpot_qa\", \"distractor\", split=\"train[:1000]\")"
   ]
  },
  {
   "cell_type": "code",
   "execution_count": 4,
   "id": "8fa80e3f",
   "metadata": {},
   "outputs": [
    {
     "name": "stdout",
     "output_type": "stream",
     "text": [
      "训练样本数：4741\n"
     ]
    }
   ],
   "source": [
    "train_examples = []\n",
    "for sample in hotpot:\n",
    "    q      = sample[\"question\"].strip()\n",
    "    titles = sample[\"context\"][\"title\"]       # 段落标题列表\n",
    "    sents  = sample[\"context\"][\"sentences\"]   # 对应的句子列表\n",
    "\n",
    "    # 拼回段落文本\n",
    "    paras = [\" \".join(ss).strip() for ss in sents]\n",
    "\n",
    "    # 正例：supporting_facts 指向的标题\n",
    "    sup_titles = sample[\"supporting_facts\"][\"title\"]\n",
    "    pos_paras  = [paras[titles.index(t)] for t in sup_titles if t in titles]\n",
    "\n",
    "    # 负例：同条样本里其余段落\n",
    "    neg_paras  = [p for i, p in enumerate(paras) if titles[i] not in sup_titles]\n",
    "\n",
    "    # 构造 InputExample\n",
    "    for pos in pos_paras:\n",
    "        train_examples.append(InputExample(texts=[q, pos], label=1.0))\n",
    "        if neg_paras:\n",
    "            train_examples.append(InputExample(texts=[q, neg_paras[0]], label=0.0))\n",
    "\n",
    "print(f\"训练样本数：{len(train_examples)}\")"
   ]
  },
  {
   "cell_type": "code",
   "execution_count": 5,
   "id": "a4ff147a",
   "metadata": {},
   "outputs": [
    {
     "name": "stdout",
     "output_type": "stream",
     "text": [
      "Q: Which magazine was started first Arthur's Magazine or First for Women?\n",
      "P: Arthur's Magazine (1844–1846) was an American literary periodical published in P … | label: 1.0\n",
      "Q: Which magazine was started first Arthur's Magazine or First for Women?\n",
      "P: Radio City is India's first private FM radio station and was started on 3 July 2 … | label: 0.0\n",
      "Q: Which magazine was started first Arthur's Magazine or First for Women?\n",
      "P: First for Women is a woman's magazine published by Bauer Media Group in the USA. … | label: 1.0\n",
      "Q: Which magazine was started first Arthur's Magazine or First for Women?\n",
      "P: Radio City is India's first private FM radio station and was started on 3 July 2 … | label: 0.0\n",
      "Q: The Oberoi family is part of a hotel company that has a head office in what city?\n",
      "P: The Oberoi family is an Indian family that is famous for its involvement in hote … | label: 1.0\n"
     ]
    }
   ],
   "source": [
    "for ex in train_examples[:5]:\n",
    "    print(\"Q:\", ex.texts[0])\n",
    "    print(\"P:\", ex.texts[1][:80], \"…\", \"| label:\", ex.label)"
   ]
  },
  {
   "cell_type": "code",
   "execution_count": 5,
   "id": "3bb8d124",
   "metadata": {},
   "outputs": [],
   "source": [
    "from sentence_transformers import SentenceTransformer, InputExample, losses, models\n",
    "from torch.utils.data import DataLoader\n",
    "from datasets import load_dataset"
   ]
  },
  {
   "cell_type": "code",
   "execution_count": 6,
   "id": "32fe6baa",
   "metadata": {},
   "outputs": [],
   "source": [
    "base_model = \"sentence-transformers/all-mpnet-base-v2\"\n",
    "model = SentenceTransformer(base_model)"
   ]
  },
  {
   "cell_type": "code",
   "execution_count": null,
   "id": "c77d8a29",
   "metadata": {},
   "outputs": [],
   "source": [
    "train_dataloader = DataLoader(train_examples, shuffle=True, batch_size=8)\n",
    "\n",
    "train_loss = losses.MultipleNegativesRankingLoss(model=model)\n",
    "\n",
    "num_epochs = 2\n",
    "warmup_steps = int(len(train_dataloader) * num_epochs * 0.1)\n",
    "#默认学习率2e-5"
   ]
  },
  {
   "cell_type": "code",
   "execution_count": 11,
   "id": "aea35b9c",
   "metadata": {},
   "outputs": [
    {
     "name": "stderr",
     "output_type": "stream",
     "text": [
      "c:\\Users\\AriZu\\.conda\\envs\\train\\lib\\site-packages\\accelerate\\accelerator.py:494: FutureWarning: `torch.cuda.amp.GradScaler(args...)` is deprecated. Please use `torch.amp.GradScaler('cuda', args...)` instead.\n",
      "  self.scaler = torch.cuda.amp.GradScaler(**kwargs)\n"
     ]
    },
    {
     "data": {
      "text/html": [
       "\n",
       "    <div>\n",
       "      \n",
       "      <progress value='1186' max='1186' style='width:300px; height:20px; vertical-align: middle;'></progress>\n",
       "      [1186/1186 11:45, Epoch 2/2]\n",
       "    </div>\n",
       "    <table border=\"1\" class=\"dataframe\">\n",
       "  <thead>\n",
       " <tr style=\"text-align: left;\">\n",
       "      <th>Step</th>\n",
       "      <th>Training Loss</th>\n",
       "    </tr>\n",
       "  </thead>\n",
       "  <tbody>\n",
       "    <tr>\n",
       "      <td>500</td>\n",
       "      <td>0.124900</td>\n",
       "    </tr>\n",
       "    <tr>\n",
       "      <td>1000</td>\n",
       "      <td>0.035600</td>\n",
       "    </tr>\n",
       "  </tbody>\n",
       "</table><p>"
      ],
      "text/plain": [
       "<IPython.core.display.HTML object>"
      ]
     },
     "metadata": {},
     "output_type": "display_data"
    },
    {
     "name": "stdout",
     "output_type": "stream",
     "text": [
      "微调完成，模型保存在 fine_tuned_mpnet_base_v2\n"
     ]
    }
   ],
   "source": [
    "model.fit(\n",
    "    train_objectives=[(train_dataloader, train_loss)],\n",
    "    epochs=2,\n",
    "    warmup_steps=warmup_steps,\n",
    "    output_path=\"fine_tuned_mpnet_base_v2\",\n",
    "    checkpoint_path=\"checkpoints/\",\n",
    "    checkpoint_save_steps=5,     \n",
    "    checkpoint_save_total_limit=2,\n",
    "    use_amp=True,  # 自动混合精度\n",
    ")\n",
    "print(\"微调完成，模型保存在 fine_tuned_mpnet_base_v2\")"
   ]
  }
 ],
 "metadata": {
  "kernelspec": {
   "display_name": "train",
   "language": "python",
   "name": "python3"
  },
  "language_info": {
   "codemirror_mode": {
    "name": "ipython",
    "version": 3
   },
   "file_extension": ".py",
   "mimetype": "text/x-python",
   "name": "python",
   "nbconvert_exporter": "python",
   "pygments_lexer": "ipython3",
   "version": "3.10.16"
  }
 },
 "nbformat": 4,
 "nbformat_minor": 5
}
